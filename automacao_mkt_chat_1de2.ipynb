{
  "nbformat": 4,
  "nbformat_minor": 0,
  "metadata": {
    "colab": {
      "provenance": []
    },
    "kernelspec": {
      "name": "python3",
      "display_name": "Python 3"
    },
    "language_info": {
      "name": "python"
    }
  },
  "cells": [
    {
      "cell_type": "code",
      "source": [
        "import pandas as pd\n",
        "import numpy as np\n",
        "import datetime\n",
        "import matplotlib.pyplot as plt\n",
        "\n",
        "# O código desse notebook esta no github: https://github.com/Russel-Servicos/automacao-mkt-chat"
      ],
      "metadata": {
        "id": "fBEpQaZIJi7Y"
      },
      "execution_count": null,
      "outputs": []
    },
    {
      "cell_type": "code",
      "source": [
        "caminho_do_arquivo = \"/content/Tabela_SalesIQ_07_10.csv\"\n",
        "data = \"07/10/2024\"\n",
        "\n",
        "df = pd.read_csv(caminho_do_arquivo)"
      ],
      "metadata": {
        "id": "DBoBUGCqH-r0"
      },
      "execution_count": null,
      "outputs": []
    },
    {
      "cell_type": "code",
      "source": [
        "## Remove linhas com NaN ou vazia\n",
        "df.dropna(how=\"all\",inplace=True)"
      ],
      "metadata": {
        "id": "Rsl9B99qjZjn"
      },
      "execution_count": null,
      "outputs": []
    },
    {
      "cell_type": "code",
      "source": [
        "## Remove linhas duplicadas\n",
        "df = df.drop_duplicates(subset = [\"Name\"])\n",
        "\n",
        "## Remove colunas\n",
        "df = df.drop(columns = ['Visitor ID', 'Initiated Time', 'IP', 'Mode'], axis = 1)"
      ],
      "metadata": {
        "id": "WDJqtluqPsiK"
      },
      "execution_count": null,
      "outputs": []
    },
    {
      "cell_type": "code",
      "source": [
        "## Muda os tipos de dados das colunas\n",
        "columns_to_type_conversions={\n",
        "    'Page': 'str',\n",
        "    'Question':'str',\n",
        "    'Source': 'str',\n",
        "    'Campaign Name': 'str',\n",
        "  }\n",
        "df = df.astype(columns_to_type_conversions)\n",
        "\n",
        "clear_column_nan_value = lambda column_name: np.where(df[column_name] == 'nan', '', df[column_name])\n",
        "\n",
        "df['Page'] = clear_column_nan_value('Page')\n",
        "df['Question'] = clear_column_nan_value('Question')\n",
        "df['Source'] = clear_column_nan_value('Source')\n",
        "df['Campaign Name'] = clear_column_nan_value('Campaign Name')"
      ],
      "metadata": {
        "id": "mc78Qc8ovm83"
      },
      "execution_count": null,
      "outputs": []
    },
    {
      "cell_type": "code",
      "source": [
        "## Filtra as linhas a coluna Page (Página de Aterrissagem)\n",
        "query_is_russelvagas = \"not (Page.str.contains('russelvagas.com'))\"\n",
        "df = df.query(query_is_russelvagas)"
      ],
      "metadata": {
        "id": "XPeJcCXXa_VT"
      },
      "execution_count": null,
      "outputs": []
    },
    {
      "cell_type": "code",
      "source": [
        "## Renomeia colunas\n",
        "columns = {\n",
        "    \"Name\": \"ID do Visitante\",\n",
        "    \"Page\": \"Página de Aterrissagem\",\n",
        "    \"Campaign Medium\": \"Meio\",\n",
        "    \"Campaign Name\": \"Campanha\",\n",
        "    \"Campaign Source\": \"Origem\",\n",
        "    \"State\": \"Estado\",\n",
        "    \"Source\": \"Canal\"\n",
        "}\n",
        "df = df.rename(columns=columns)"
      ],
      "metadata": {
        "id": "kiBlJ6Tbkk1w"
      },
      "execution_count": null,
      "outputs": []
    },
    {
      "cell_type": "code",
      "source": [
        "# Cria novas colunas\n",
        "df['Data'] = data\n",
        "df['Qualificação'] = ''\n",
        "df['Contagem'] = ''\n",
        "df['Taxa de Conversão'] = ''"
      ],
      "metadata": {
        "id": "bfZfhdg3mVTB"
      },
      "execution_count": null,
      "outputs": []
    },
    {
      "cell_type": "code",
      "source": [
        "## Reorganiza colunas\n",
        "df = df.reindex(['Data','ID do Visitante','Canal','Página de Aterrissagem','Question','Origem','Meio','Campanha','Estado','Keyword','Qualificação','Contagem','Taxa de Conversão'], axis = 1)"
      ],
      "metadata": {
        "id": "BrFGY1vSlZzl"
      },
      "execution_count": null,
      "outputs": []
    },
    {
      "cell_type": "code",
      "source": [
        "## Atribui as linhas, o valor \"Emprego\"\n",
        "query_is_emprego = \"(Question.str.contains('Emprego', case=False))\"\n",
        "df_is_emprego = df.query(query_is_emprego)\n",
        "df_is_emprego.loc[:, \"Qualificação\"] = \"Emprego\"\n",
        "\n",
        "query_is_not_emprego = f\"not {query_is_emprego}\"\n",
        "df_not_is_emprego = df.query(query_is_not_emprego)\n",
        "\n",
        "df = pd.concat([df_is_emprego, df_not_is_emprego])"
      ],
      "metadata": {
        "id": "S7GHc3iywU-b"
      },
      "execution_count": null,
      "outputs": []
    },
    {
      "cell_type": "code",
      "source": [
        "## Deletar linhas da coluna 'Página de Aterrissagem' que conter 'russelvagas'\n",
        "df = df.drop(columns = ['Question'], axis = 1)"
      ],
      "metadata": {
        "id": "ddKgDB01U3DE"
      },
      "execution_count": null,
      "outputs": []
    },
    {
      "cell_type": "code",
      "source": [
        "# Exportar como CSV\n",
        "now = datetime.datetime.now()\n",
        "now = now.strftime(\"%Y_%m_%d_%H_%M\")\n",
        "df.to_csv(f'./planilha_chat_estagio_1de2_{now}.csv', index=False)"
      ],
      "metadata": {
        "id": "bUU_a3NNkyFv"
      },
      "execution_count": null,
      "outputs": []
    },
    {
      "cell_type": "code",
      "source": [
        "#plt.bar()"
      ],
      "metadata": {
        "id": "b1Ofpix96s8w"
      },
      "execution_count": null,
      "outputs": []
    }
  ]
}