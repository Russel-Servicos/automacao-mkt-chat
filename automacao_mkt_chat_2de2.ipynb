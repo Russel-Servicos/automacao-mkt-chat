{
  "nbformat": 4,
  "nbformat_minor": 0,
  "metadata": {
    "colab": {
      "provenance": []
    },
    "kernelspec": {
      "name": "python3",
      "display_name": "Python 3"
    },
    "language_info": {
      "name": "python"
    }
  },
  "cells": [
    {
      "cell_type": "code",
      "execution_count": 23,
      "metadata": {
        "id": "Maociir0AUBn"
      },
      "outputs": [],
      "source": [
        "import pandas as pd\n",
        "import datetime\n",
        "import numpy as np\n",
        "import matplotlib.pyplot as plt\n",
        "\n",
        "# O código desse notebook esta no github: https://github.com/Russel-Servicos/automacao-mkt-chat"
      ]
    },
    {
      "cell_type": "code",
      "source": [
        "caminho_do_arquivo = \"/content/Tabela SalesIQ 07.10 - planilha_chat_estagio_1de2_2024_10_08_12_43.csv.csv\"\n",
        "data = \"07/10/2024\"\n",
        "\n",
        "df = pd.read_csv(caminho_do_arquivo)"
      ],
      "metadata": {
        "id": "vlIkihNcAWzX"
      },
      "execution_count": 24,
      "outputs": []
    },
    {
      "cell_type": "code",
      "source": [
        "## Remove linhas com NaN ou vazia\n",
        "df.dropna(how=\"all\",inplace=True)"
      ],
      "metadata": {
        "id": "XL5Yv0V2jHUY"
      },
      "execution_count": 25,
      "outputs": []
    },
    {
      "cell_type": "code",
      "source": [
        "## Conta quantidade de qualificado, não qualificado e emprego\n",
        "qty_ids = len(df.index)\n",
        "\n",
        "qty_qualified = df.query(\"Qualificação == 'Qualificado'\")\n",
        "qty_qualified = len(qty_qualified.index)\n",
        "percentage_qualified = qty_qualified / qty_ids\n",
        "percentage_qualified = \"{:.0%}\".format(percentage_qualified)"
      ],
      "metadata": {
        "id": "ImZemCWlA2UC"
      },
      "execution_count": 26,
      "outputs": []
    },
    {
      "cell_type": "code",
      "source": [
        "## Muda os tipos de dados das colunas\n",
        "columns_to_type_conversions = {\n",
        "    'Canal': 'str',\n",
        "    'Origem':'str',\n",
        "    'Meio': 'str',\n",
        "    'Campanha': 'str',\n",
        "  }\n",
        "df = df.astype(columns_to_type_conversions)\n",
        "\n",
        "clear_column_nan_value = lambda column_name: np.where(df[column_name] == 'nan', '', df[column_name])\n",
        "\n",
        "df['Canal'] = clear_column_nan_value('Canal')\n",
        "df['Origem'] = clear_column_nan_value('Origem')\n",
        "df['Meio'] = clear_column_nan_value('Meio')\n",
        "df['Campanha'] = clear_column_nan_value('Campanha')"
      ],
      "metadata": {
        "id": "tORj-z3vnps7"
      },
      "execution_count": 27,
      "outputs": []
    },
    {
      "cell_type": "code",
      "source": [
        "## Busca os valores únicos dos canais\n",
        "canais = pd.unique(df[\"Canal\"])\n",
        "origens = pd.unique(df[\"Origem\"])\n",
        "meios = pd.unique(df[\"Meio\"])\n",
        "campanhas = pd.unique(df[\"Campanha\"])\n",
        "qualificacoes = pd.unique(df[\"Qualificação\"])"
      ],
      "metadata": {
        "id": "nrfTpCMb2UQJ"
      },
      "execution_count": 28,
      "outputs": []
    },
    {
      "cell_type": "code",
      "source": [
        "## Contagem e Taxa de Conversão das colunas: Canal, Origem, Meio e Campanha\n",
        "def generate_data_column_contagem_from_qualificacao(values, column):\n",
        "  result_list = []\n",
        "\n",
        "  for value in values:\n",
        "    if value == \"\":\n",
        "      continue\n",
        "\n",
        "    df_filtered = df.query(f\"{column} == '{value}'\")\n",
        "    total_rows = len(df_filtered.index)\n",
        "\n",
        "    calculation = f\"{value}: {total_rows}\"\n",
        "\n",
        "    if total_rows > 0:\n",
        "      percentage = total_rows / qty_ids\n",
        "      percentage = \"{:.0%}\".format(percentage)\n",
        "    else:\n",
        "      percentage = 0\n",
        "\n",
        "    result_list.append({\n",
        "        \"TaxaConversão\": percentage,\n",
        "        \"Calculo\": calculation\n",
        "    })\n",
        "  return result_list\n",
        "\n",
        "def generate_data_column_contagem(values, column):\n",
        "  result_list = []\n",
        "\n",
        "  for value in values:\n",
        "    if value == \"\":\n",
        "      continue\n",
        "\n",
        "    df_filtered = df.query(f\"{column} == '{value}'\")\n",
        "    total_rows = len(df_filtered.index)\n",
        "\n",
        "    df_qualified = df_filtered.query(\"Qualificação == 'Qualificado'\")\n",
        "    qty_qualified_category = len(df_qualified.index)\n",
        "\n",
        "    calculation = f\"{value}: {total_rows} - {qty_qualified_category}\"\n",
        "\n",
        "    if qty_qualified_category > 0:\n",
        "      percentage = qty_qualified_category / total_rows\n",
        "      percentage = \"{:.0%}\".format(percentage)\n",
        "    else:\n",
        "      percentage = 0\n",
        "\n",
        "\n",
        "    result_list.append({\n",
        "        \"TaxaConversão\": percentage,\n",
        "        \"Calculo\": calculation\n",
        "    })\n",
        "  return result_list\n",
        "\n",
        "contagem_canais_dict = generate_data_column_contagem(values=canais, column=\"Canal\")\n",
        "contagem_origens_dict = generate_data_column_contagem(values=origens, column=\"Origem\")\n",
        "contagem_meios_dict = generate_data_column_contagem(values=meios, column=\"Meio\")\n",
        "contagem_campanhas_dict = generate_data_column_contagem(values=campanhas, column=\"Campanha\")\n",
        "\n",
        "contagem_qualificacao_dict = generate_data_column_contagem_from_qualificacao(values=qualificacoes, column=\"Qualificação\")"
      ],
      "metadata": {
        "id": "PbY6XHP-CtOv"
      },
      "execution_count": 29,
      "outputs": []
    },
    {
      "cell_type": "code",
      "source": [
        "## Insere valores na coluna Contagem e Taxa de Conversão\n",
        "all_contagem_rows_dict = contagem_qualificacao_dict + [ {} ] + contagem_canais_dict + [ {} ] + contagem_origens_dict + [ {} ] + contagem_meios_dict + [ {} ] + contagem_campanhas_dict\n",
        "\n",
        "total_rows = df.shape[0]\n",
        "total_rows_contagem = len(all_contagem_rows_dict)\n",
        "total_rows_that_must_be_blank = total_rows - total_rows_contagem\n",
        "\n",
        "for _ in range(total_rows_that_must_be_blank):\n",
        "  all_contagem_rows_dict.append({})\n",
        "\n",
        "list_taxa_conversao = []\n",
        "list_contagem = []\n",
        "\n",
        "for value in all_contagem_rows_dict:\n",
        "  dict_is_empty = len(value.keys()) == 0\n",
        "\n",
        "  if dict_is_empty:\n",
        "    list_taxa_conversao.append(\"\")\n",
        "    list_contagem.append(\"\")\n",
        "  else:\n",
        "    list_taxa_conversao.append(value[\"TaxaConversão\"])\n",
        "    list_contagem.append(value[\"Calculo\"])\n",
        "\n",
        "cria_tabela_separado_para_contagem=False\n",
        "try:\n",
        "  df.loc[:, \"Taxa de Conversão\"] = list_taxa_conversao\n",
        "  df.loc[:, \"Contagem\"] = list_contagem\n",
        "except:\n",
        "  cria_tabela_separado_para_contagem=True\n",
        ""
      ],
      "metadata": {
        "id": "dqCpXJH2jSsE"
      },
      "execution_count": 30,
      "outputs": []
    },
    {
      "cell_type": "code",
      "source": [
        "## Adiciona o valor Chat SalesIQ na coluna Canal\n",
        "# df_salesiq = df.query(\"Canal in ['Adwords', 'Direct', 'Referrals', 'Search Engine']\")\n",
        "# df_salesiq.loc[:, \"Canal\"] = \"Chat SalesIQ\"\n",
        "\n",
        "# df_not_salesiq = df.query(\"Canal not in ['Adwords', 'Direct', 'Referrals', 'Search Engine']\")\n",
        "\n",
        "# df_final = pd.concat([df_salesiq, df_not_salesiq])"
      ],
      "metadata": {
        "id": "u49f22PIVNHI"
      },
      "execution_count": 31,
      "outputs": []
    },
    {
      "cell_type": "code",
      "source": [
        "## Adiciona valores totais na primeira linha, embaixo da linha das colunas\n",
        "df.loc[-1] = [data, qty_ids, qty_qualified, percentage_qualified, \"\", \"\", \"\", \"\", \"\", \"\", \"\", \"\"]\n",
        "df.index = df.index + 1\n",
        "df = df.sort_index()"
      ],
      "metadata": {
        "id": "kcPsaGXkXtWr"
      },
      "execution_count": 32,
      "outputs": []
    },
    {
      "cell_type": "code",
      "source": [
        "# Exportar como CSV\n",
        "now = datetime.datetime.now()\n",
        "now = now.strftime(\"%Y_%m_%d_%H_%M\")\n",
        "df.to_csv(f'./planilha_chat_estagio_2de2_{now}.csv', index=False)\n",
        "\n",
        "if cria_tabela_separado_para_contagem == True:\n",
        "  data_contagem = {\n",
        "    'Taxa de Conversão': list_taxa_conversao,\n",
        "    'Contagem': list_contagem\n",
        "  }\n",
        "\n",
        "  df_contagem = pd.DataFrame(data_contagem)\n",
        "  df_contagem.to_csv(f'./planilha_chat_estagio_2de2_{now}_contagem.csv', index=False)"
      ],
      "metadata": {
        "id": "tUVUqk-HbPfl"
      },
      "execution_count": 34,
      "outputs": []
    }
  ]
}